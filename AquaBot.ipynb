{
  "nbformat": 4,
  "nbformat_minor": 0,
  "metadata": {
    "colab": {
      "provenance": [],
      "authorship_tag": "ABX9TyPteK1dQHAdtUGXc4xNUecw",
      "include_colab_link": true
    },
    "kernelspec": {
      "name": "python3",
      "display_name": "Python 3"
    },
    "language_info": {
      "name": "python"
    }
  },
  "cells": [
    {
      "cell_type": "markdown",
      "metadata": {
        "id": "view-in-github",
        "colab_type": "text"
      },
      "source": [
        "<a href=\"https://colab.research.google.com/github/GustavoFG053/projetoAlura_AquaBot/blob/main/AquaBot.ipynb\" target=\"_parent\"><img src=\"https://colab.research.google.com/assets/colab-badge.svg\" alt=\"Open In Colab\"/></a>"
      ]
    },
    {
      "cell_type": "code",
      "execution_count": 24,
      "metadata": {
        "id": "WXtn4gmOFsHq"
      },
      "outputs": [],
      "source": [
        "!pip install -U -q google-generativeai"
      ]
    },
    {
      "cell_type": "code",
      "source": [
        "#Importações e configurações iniciais\n",
        "import google.generativeai as genai\n",
        "\n",
        "\n",
        "#Ocultando informações da secret key\n",
        "from google.colab import userdata\n",
        "\n",
        "api_key = userdata.get(\"SECRET_KEY\")\n",
        "genai.configure(api_key=api_key)"
      ],
      "metadata": {
        "id": "wcCyQHIbF373"
      },
      "execution_count": 67,
      "outputs": []
    },
    {
      "cell_type": "code",
      "source": [
        "# Define configurações de geração e segurança\n",
        "generation_config = {\n",
        "    \"temperature\": 0,\n",
        "    \"top_p\": 0.95,\n",
        "    \"top_k\": 0,\n",
        "    \"max_output_tokens\": 2048,\n",
        "}\n",
        "safety_settings = [\n",
        "    {\n",
        "        \"category\": \"HARM_CATEGORY_HARASSMENT\",\n",
        "        \"threshold\": \"BLOCK_MEDIUM_AND_ABOVE\"\n",
        "    },\n",
        "    {\n",
        "        \"category\": \"HARM_CATEGORY_HATE_SPEECH\",\n",
        "        \"threshold\": \"BLOCK_MEDIUM_AND_ABOVE\"\n",
        "    },\n",
        "    {\n",
        "        \"category\": \"HARM_CATEGORY_SEXUALLY_EXPLICIT\",\n",
        "        \"threshold\": \"BLOCK_MEDIUM_AND_ABOVE\"\n",
        "    },\n",
        "    {\n",
        "        \"category\": \"HARM_CATEGORY_DANGEROUS_CONTENT\",\n",
        "        \"threshold\": \"BLOCK_MEDIUM_AND_ABOVE\"\n",
        "    },\n",
        "]\n",
        "\n",
        "# Inicializa o GenerativeModel\n",
        "model = genai.GenerativeModel(model_name=\"gemini-1.0-pro\", generation_config=generation_config, safety_settings=safety_settings)\n",
        "\n",
        "# Inicia a sessão de chat\n",
        "chat = model.start_chat(history=[])\n",
        "\n",
        "\n",
        "# AquaBot:\n",
        "\n",
        "print(\"Olá!  Sou AquaBot, seu assistente inteligente para o tratamento da água da piscina. Estou aqui para te ajudar a manter sua piscina limpa, cristalina e saudável.\")\n",
        "print(\"Posso te auxiliar com diversas tarefas, como:\\n\")\n",
        "print(\"- Responder perguntas sobre tratamento de água, química da piscina e manutenção. \\n\")\n",
        "print(\"- Identificar problemas na água da piscina através de imagens e sugerir soluções. \\n\")\n",
        "print(\"- Responder suas dúvidas sobre a piscina utilizando imagens ou apenas texto. \\n\")\n",
        "\n",
        "print(\"\\nPara finalizar nossa conversa, basta digitar \\\"fim\\\" e o sistema será encerrado. \\n\")\n",
        "print(\"\\nDigite **pergunta** caso queira apenas realizar uma pergunta, ou **imagem** caso queira que o AquaBot analise sua imagem.\\n\")\n",
        "\n",
        "while True:\n",
        "    # Pergunta ao usuário se ele deseja analisar uma imagem ou fazer uma pergunta\n",
        "    user_choice = input(\"Deseja analisar uma imagem (imagem) ou fazer uma pergunta (pergunta)? \").lower()\n",
        "\n",
        "    if user_choice == \"imagem\":\n",
        "        # Fluxo de trabalho de análise de imagem\n",
        "        image_filename = input(\"Digite o nome da imagem no Colab: \")\n",
        "        image = genai.upload_file(image_filename)\n",
        "        prompt_parts = [\n",
        "            \"Analise esta imagem e me diga quais problemas você identifica na água da piscina e quais soluções você recomenda.\",\n",
        "            \"Fique atento aos detalhes apresentados na coloração da piscina, se estiver verde provavelmente existe um desenvolvimento de algas em excesso, branca excesso de produto\"  # Espaço reservado para entrada adicional do usuário (opcional)\n",
        "        ]\n",
        "        response_pool = model.generate_content(prompt_parts)\n",
        "        print(\"\\nResposta:\", response_pool.text, \"\\n\")\n",
        "\n",
        "    elif user_choice == \"pergunta\":\n",
        "        # Fluxo de trabalho de perguntas e respostas\n",
        "        user_question = input(\"Digite sua pergunta: \")\n",
        "        response = chat.send_message(user_question)\n",
        "        print(\"\\nResposta:\", response.text, \"\\n\")\n",
        "\n",
        "    else:\n",
        "        print(\"Opção inválida. Por favor, digite \\\"imagem\\\" ou \\\"pergunta\\\".\")\n",
        "\n",
        "    # Pergunta se o usuário deseja continuar\n",
        "    user_choice = input(\"Deseja continuar? (sim/nao): \").lower()\n",
        "    if user_choice != \"sim\":\n",
        "        break\n"
      ],
      "metadata": {
        "colab": {
          "base_uri": "https://localhost:8080/",
          "height": 610
        },
        "id": "aFKennkRqR3t",
        "outputId": "8e410775-121d-4934-f9d4-b87c59a8432f"
      },
      "execution_count": 68,
      "outputs": [
        {
          "name": "stdout",
          "output_type": "stream",
          "text": [
            "Olá!  Sou AquaBot, seu assistente inteligente para o tratamento da água da piscina. Estou aqui para te ajudar a manter sua piscina limpa, cristalina e saudável.\n",
            "Posso te auxiliar com diversas tarefas, como:\n",
            "\n",
            "- Responder perguntas sobre tratamento de água, química da piscina e manutenção. \n",
            "\n",
            "- Identificar problemas na água da piscina através de imagens e sugerir soluções. \n",
            "\n",
            "- Responder suas dúvidas sobre a piscina utilizando imagens ou apenas texto. \n",
            "\n",
            "\n",
            "Para finalizar nossa conversa, basta digitar \"fim\" e o sistema será encerrado. \n",
            "\n",
            "\n",
            "Digite **pergunta** caso queira apenas realizar uma pergunta, ou **imagem** caso queira que o AquaBot analise sua imagem.\n",
            "\n",
            "Deseja analisar uma imagem (imagem) ou fazer uma pergunta (pergunta)? pergunta\n",
            "Digite sua pergunta: o que é pH?\n",
            "\n",
            "Resposta: pH é uma medida da acidez ou basicidade de uma solução. É expresso em uma escala de 0 a 14, onde:\n",
            "\n",
            "* **0 a 6,9:** Ácido\n",
            "* **7:** Neutro\n",
            "* **7,1 a 14:** Básico\n",
            "\n",
            "O pH é determinado pela concentração de íons hidrogênio (H+) na solução. Quanto maior a concentração de íons H+, menor o pH (mais ácido). Quanto menor a concentração de íons H+, maior o pH (mais básico).\n",
            "\n",
            "O pH é importante em muitos aspectos da vida, incluindo:\n",
            "\n",
            "* **Saúde:** O pH do sangue humano deve ser mantido dentro de uma faixa estreita para manter a saúde.\n",
            "* **Meio ambiente:** O pH da água e do solo afeta a vida das plantas e animais.\n",
            "* **Indústria:** O pH é usado para controlar processos químicos e de fabricação. \n",
            "\n",
            "Deseja continuar? (sim/nao): nao\n"
          ]
        }
      ]
    }
  ]
}